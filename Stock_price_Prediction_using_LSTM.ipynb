{
  "nbformat": 4,
  "nbformat_minor": 0,
  "metadata": {
    "colab": {
      "name": "Stock_price_Prediction using LSTM",
      "provenance": [],
      "collapsed_sections": [],
      "authorship_tag": "ABX9TyORffD6QCCFc5SJC08UNbo6",
      "include_colab_link": true
    },
    "kernelspec": {
      "name": "python3",
      "display_name": "Python 3"
    },
    "language_info": {
      "name": "python"
    }
  },
  "cells": [
    {
      "cell_type": "markdown",
      "metadata": {
        "id": "view-in-github",
        "colab_type": "text"
      },
      "source": [
        "<a href=\"https://colab.research.google.com/github/tejaswi0310/Project/blob/main/Stock_price_Prediction_using_LSTM.ipynb\" target=\"_parent\"><img src=\"https://colab.research.google.com/assets/colab-badge.svg\" alt=\"Open In Colab\"/></a>"
      ]
    },
    {
      "cell_type": "markdown",
      "source": [
        "IMPORTING THE LIBRARIES"
      ],
      "metadata": {
        "id": "wlL-EZcYWox2"
      }
    },
    {
      "cell_type": "code",
      "source": [
        "import numpy as np\n",
        "import pandas as pd\n",
        "import matplotlib.pyplot as plt"
      ],
      "metadata": {
        "id": "TUa_57jtWtsc"
      },
      "execution_count": 12,
      "outputs": []
    },
    {
      "cell_type": "code",
      "source": [
        "from google.colab import drive\n",
        "drive.mount('/content/drive/')"
      ],
      "metadata": {
        "colab": {
          "base_uri": "https://localhost:8080/"
        },
        "id": "O2bvOVdBsoqh",
        "outputId": "aeb2599d-3e5b-4a9c-87b2-151fa8af005a"
      },
      "execution_count": 13,
      "outputs": [
        {
          "output_type": "stream",
          "name": "stdout",
          "text": [
            "Drive already mounted at /content/drive/; to attempt to forcibly remount, call drive.mount(\"/content/drive/\", force_remount=True).\n"
          ]
        }
      ]
    },
    {
      "cell_type": "markdown",
      "source": [
        "importing the training set"
      ],
      "metadata": {
        "id": "_jf8fZnOZ51-"
      }
    },
    {
      "cell_type": "code",
      "source": [
        "from google.colab import drive\n",
        "drive.mount('/content/drive')"
      ],
      "metadata": {
        "id": "7uWuh4EfuHfz",
        "colab": {
          "base_uri": "https://localhost:8080/"
        },
        "outputId": "a1a6e6f7-e453-4e2f-e213-49b49edb5f8d"
      },
      "execution_count": 14,
      "outputs": [
        {
          "output_type": "stream",
          "name": "stdout",
          "text": [
            "Drive already mounted at /content/drive; to attempt to forcibly remount, call drive.mount(\"/content/drive\", force_remount=True).\n"
          ]
        }
      ]
    },
    {
      "cell_type": "code",
      "source": [
        "dataset_train=pd.read_csv('/content/drive/MyDrive/Google_Stock_Price_Train.csv')\n"
      ],
      "metadata": {
        "id": "unqCHk2BZUNJ"
      },
      "execution_count": 15,
      "outputs": []
    },
    {
      "cell_type": "markdown",
      "source": [
        "making the numpy array"
      ],
      "metadata": {
        "id": "CSY6cAkEbK8H"
      }
    },
    {
      "cell_type": "code",
      "source": [
        "training_set=dataset_train.iloc[:,1:2].values"
      ],
      "metadata": {
        "id": "UMrXotdua5p9"
      },
      "execution_count": 16,
      "outputs": []
    },
    {
      "cell_type": "markdown",
      "source": [
        "Feature Scaling"
      ],
      "metadata": {
        "id": "TQU5tQJEdDLL"
      }
    },
    {
      "cell_type": "code",
      "source": [
        "from sklearn.preprocessing import MinMaxScaler\n",
        "#normalised the dataset values between 0 and 1\n",
        "sc = MinMaxScaler(feature_range = (0, 1))\n",
        "training_set_scaled = sc.fit_transform(training_set)"
      ],
      "metadata": {
        "id": "oGq82C-QdFCG"
      },
      "execution_count": 17,
      "outputs": []
    },
    {
      "cell_type": "markdown",
      "source": [
        "60 timestemps means 60 previous financial days\n",
        "and in one month we have approx 20 financial days \n",
        "i.e, 3 months"
      ],
      "metadata": {
        "id": "2P9pzj5FeH0u"
      }
    },
    {
      "cell_type": "code",
      "source": [
        "#x_train=input and y_train=output"
      ],
      "metadata": {
        "id": "b2-qNjzFeZT9"
      },
      "execution_count": 18,
      "outputs": []
    },
    {
      "cell_type": "markdown",
      "source": [
        "that's the idea of using RNN it is memorising the trends of last 60 days and than it will predict the data"
      ],
      "metadata": {
        "id": "0kuAM7Cwfyrd"
      }
    },
    {
      "cell_type": "code",
      "source": [
        "X_train = []\n",
        "y_train = []\n",
        "#we have total 1258 rows in our dataset\n",
        "for i in range(60, 1258):\n",
        "    X_train.append(training_set_scaled[i-60:i, 0])#training data of the last 60 days\n",
        "    y_train.append(training_set_scaled[i, 0])#(t+1)th data corresponds to the test data which we have to predict\n",
        "X_train, y_train = np.array(X_train), np.array(y_train)"
      ],
      "metadata": {
        "id": "sTJbiQs5liQs"
      },
      "execution_count": 19,
      "outputs": []
    },
    {
      "cell_type": "markdown",
      "source": [
        "batch_size=total no of stock prices from 2012 to 2016\n",
        "\n",
        "time_step=total no of timesteps(ie 60)\n",
        "\n",
        "input_dim=new input dimensions which could help in\n",
        "getting good predictions\n"
      ],
      "metadata": {
        "id": "uIvzbrwQuDR4"
      }
    },
    {
      "cell_type": "code",
      "source": [
        "# Reshaping it to 3 dimensions int columns,time_steps and predictors\n",
        "X_train = np.reshape(X_train, (X_train.shape[0], X_train.shape[1], 1))"
      ],
      "metadata": {
        "id": "MxHJzBDZvqEI"
      },
      "execution_count": 20,
      "outputs": []
    },
    {
      "cell_type": "markdown",
      "source": [
        "The reshape() function when called on an array takes one argument which is a tuple defining the new shape of the array. We cannot pass in any tuple of numbers; the reshape must evenly reorganize the data in the array."
      ],
      "metadata": {
        "id": "Hh5c3ZURxPlb"
      }
    },
    {
      "cell_type": "markdown",
      "source": [
        "X_train.shape[0]  corresponds to number of columns\n",
        "\n",
        "X_train.shape[1]  corresponds to number of time_steps\n",
        "\n",
        "---\n",
        "\n",
        "1=number of predictors"
      ],
      "metadata": {
        "id": "zrwN8xfavrXY"
      }
    },
    {
      "cell_type": "markdown",
      "source": [
        ""
      ],
      "metadata": {
        "id": "6VIJHgkXxS_x"
      }
    },
    {
      "cell_type": "markdown",
      "source": [
        "we know that regression is about predicting continuous values and classification is about predicting categorical values"
      ],
      "metadata": {
        "id": "D6vYtX2QytHS"
      }
    },
    {
      "cell_type": "markdown",
      "source": [
        "Building the RNN"
      ],
      "metadata": {
        "id": "_x9wxhSdzIU0"
      }
    },
    {
      "cell_type": "code",
      "source": [
        "# Importing the Keras libraries and packages\n",
        "from keras.models import Sequential\n",
        "from keras.layers import Dense\n",
        "from keras.layers import LSTM\n",
        "from keras.layers import Dropout"
      ],
      "metadata": {
        "id": "nATAYLa3zP7D"
      },
      "execution_count": 21,
      "outputs": []
    },
    {
      "cell_type": "code",
      "source": [
        "# Initialising the RNN\n",
        "regressor = Sequential()"
      ],
      "metadata": {
        "id": "GwvbP8-qzXZ9"
      },
      "execution_count": 22,
      "outputs": []
    },
    {
      "cell_type": "markdown",
      "source": [
        "we are choosing 50 neurons because we have very high dimensionality data and if we choose less neurons ie 4 to 5 neurons than it would be hard to predict the correct output"
      ],
      "metadata": {
        "id": "Qw9vRYyslpAk"
      }
    },
    {
      "cell_type": "code",
      "source": [
        "# Adding the first LSTM layer and some Dropout regularisation\n",
        "regressor.add(LSTM(units = 50, return_sequences = True, input_shape = (X_train.shape[1], 1))) #we still have this 3d structure\n",
        "regressor.add(Dropout(0.2))"
      ],
      "metadata": {
        "id": "eS21xWQYmTVR"
      },
      "execution_count": 23,
      "outputs": []
    },
    {
      "cell_type": "code",
      "source": [
        "# Adding a second LSTM layer and some Dropout regularisation\n",
        "regressor.add(LSTM(units = 50, return_sequences = True))\n",
        "regressor.add(Dropout(0.2))\n",
        "\n",
        "# Adding a third LSTM layer and some Dropout regularisation\n",
        "regressor.add(LSTM(units = 50, return_sequences = True))\n",
        "regressor.add(Dropout(0.2))\n",
        "\n",
        "# Adding a fourth LSTM layer and some Dropout regularisation\n",
        "regressor.add(LSTM(units = 50))#return sequences is not there because we do not return any more sequence from here\n",
        "regressor.add(Dropout(0.2))"
      ],
      "metadata": {
        "id": "APeHKPEO07H5"
      },
      "execution_count": 24,
      "outputs": []
    },
    {
      "cell_type": "code",
      "source": [
        "# Adding the output layer\n",
        "regressor.add(Dense(units = 1))"
      ],
      "metadata": {
        "id": "DtjncHSKCQeW"
      },
      "execution_count": 25,
      "outputs": []
    },
    {
      "cell_type": "markdown",
      "source": [
        "ephocs means no of iterations in which you we want the neuran network to give result"
      ],
      "metadata": {
        "id": "6NXDa6aOGsuJ"
      }
    },
    {
      "cell_type": "code",
      "source": [
        "# Compiling the RNN\n",
        "regressor.compile(optimizer = 'adam', loss = 'mean_squared_error')\n"
      ],
      "metadata": {
        "id": "BR-_0Tu-G8yi"
      },
      "execution_count": 26,
      "outputs": []
    },
    {
      "cell_type": "code",
      "source": [
        "# Fitting the RNN to the Training set\n",
        "regressor.fit(X_train, y_train, epochs = 100, batch_size = 32)"
      ],
      "metadata": {
        "id": "83XezHjyIQhq",
        "colab": {
          "base_uri": "https://localhost:8080/"
        },
        "outputId": "3a82e67d-91be-439e-e3b9-3f257efb4f69"
      },
      "execution_count": 27,
      "outputs": [
        {
          "output_type": "stream",
          "name": "stdout",
          "text": [
            "Epoch 1/100\n",
            "38/38 [==============================] - 16s 159ms/step - loss: 0.0509\n",
            "Epoch 2/100\n",
            "38/38 [==============================] - 6s 156ms/step - loss: 0.0065\n",
            "Epoch 3/100\n",
            "38/38 [==============================] - 6s 162ms/step - loss: 0.0061\n",
            "Epoch 4/100\n",
            "38/38 [==============================] - 6s 153ms/step - loss: 0.0052\n",
            "Epoch 5/100\n",
            "38/38 [==============================] - 6s 151ms/step - loss: 0.0056\n",
            "Epoch 6/100\n",
            "38/38 [==============================] - 6s 152ms/step - loss: 0.0044\n",
            "Epoch 7/100\n",
            "38/38 [==============================] - 6s 150ms/step - loss: 0.0052\n",
            "Epoch 8/100\n",
            "38/38 [==============================] - 6s 164ms/step - loss: 0.0051\n",
            "Epoch 9/100\n",
            "38/38 [==============================] - 6s 159ms/step - loss: 0.0047\n",
            "Epoch 10/100\n",
            "38/38 [==============================] - 6s 166ms/step - loss: 0.0044\n",
            "Epoch 11/100\n",
            "38/38 [==============================] - 6s 166ms/step - loss: 0.0042\n",
            "Epoch 12/100\n",
            "38/38 [==============================] - 6s 160ms/step - loss: 0.0046\n",
            "Epoch 13/100\n",
            "38/38 [==============================] - 6s 161ms/step - loss: 0.0042\n",
            "Epoch 14/100\n",
            "38/38 [==============================] - 6s 160ms/step - loss: 0.0038\n",
            "Epoch 15/100\n",
            "38/38 [==============================] - 6s 159ms/step - loss: 0.0041\n",
            "Epoch 16/100\n",
            "38/38 [==============================] - 6s 155ms/step - loss: 0.0037\n",
            "Epoch 17/100\n",
            "38/38 [==============================] - 6s 159ms/step - loss: 0.0041\n",
            "Epoch 18/100\n",
            "38/38 [==============================] - 6s 164ms/step - loss: 0.0040\n",
            "Epoch 19/100\n",
            "38/38 [==============================] - 6s 166ms/step - loss: 0.0038\n",
            "Epoch 20/100\n",
            "38/38 [==============================] - 6s 167ms/step - loss: 0.0038\n",
            "Epoch 21/100\n",
            "38/38 [==============================] - 6s 166ms/step - loss: 0.0032\n",
            "Epoch 22/100\n",
            "38/38 [==============================] - 6s 157ms/step - loss: 0.0036\n",
            "Epoch 23/100\n",
            "38/38 [==============================] - 6s 163ms/step - loss: 0.0033\n",
            "Epoch 24/100\n",
            "38/38 [==============================] - 6s 156ms/step - loss: 0.0035\n",
            "Epoch 25/100\n",
            "38/38 [==============================] - 6s 158ms/step - loss: 0.0034\n",
            "Epoch 26/100\n",
            "38/38 [==============================] - 6s 163ms/step - loss: 0.0033\n",
            "Epoch 27/100\n",
            "38/38 [==============================] - 6s 156ms/step - loss: 0.0034\n",
            "Epoch 28/100\n",
            "38/38 [==============================] - 6s 155ms/step - loss: 0.0031\n",
            "Epoch 29/100\n",
            "38/38 [==============================] - 6s 157ms/step - loss: 0.0029\n",
            "Epoch 30/100\n",
            "38/38 [==============================] - 6s 157ms/step - loss: 0.0036\n",
            "Epoch 31/100\n",
            "38/38 [==============================] - 6s 155ms/step - loss: 0.0028\n",
            "Epoch 32/100\n",
            "38/38 [==============================] - 6s 154ms/step - loss: 0.0032\n",
            "Epoch 33/100\n",
            "38/38 [==============================] - 6s 160ms/step - loss: 0.0033\n",
            "Epoch 34/100\n",
            "38/38 [==============================] - 6s 162ms/step - loss: 0.0027\n",
            "Epoch 35/100\n",
            "38/38 [==============================] - 6s 163ms/step - loss: 0.0031\n",
            "Epoch 36/100\n",
            "38/38 [==============================] - 6s 164ms/step - loss: 0.0033\n",
            "Epoch 37/100\n",
            "38/38 [==============================] - 6s 164ms/step - loss: 0.0027\n",
            "Epoch 38/100\n",
            "38/38 [==============================] - 6s 170ms/step - loss: 0.0027\n",
            "Epoch 39/100\n",
            "38/38 [==============================] - 7s 176ms/step - loss: 0.0025\n",
            "Epoch 40/100\n",
            "38/38 [==============================] - 6s 168ms/step - loss: 0.0028\n",
            "Epoch 41/100\n",
            "38/38 [==============================] - 7s 172ms/step - loss: 0.0025\n",
            "Epoch 42/100\n",
            "38/38 [==============================] - 6s 162ms/step - loss: 0.0026\n",
            "Epoch 43/100\n",
            "38/38 [==============================] - 7s 171ms/step - loss: 0.0027\n",
            "Epoch 44/100\n",
            "38/38 [==============================] - 7s 175ms/step - loss: 0.0025\n",
            "Epoch 45/100\n",
            "38/38 [==============================] - 6s 162ms/step - loss: 0.0027\n",
            "Epoch 46/100\n",
            "38/38 [==============================] - 6s 165ms/step - loss: 0.0027\n",
            "Epoch 47/100\n",
            "38/38 [==============================] - 6s 165ms/step - loss: 0.0026\n",
            "Epoch 48/100\n",
            "38/38 [==============================] - 6s 168ms/step - loss: 0.0028\n",
            "Epoch 49/100\n",
            "38/38 [==============================] - 6s 168ms/step - loss: 0.0026\n",
            "Epoch 50/100\n",
            "38/38 [==============================] - 6s 160ms/step - loss: 0.0027\n",
            "Epoch 51/100\n",
            "38/38 [==============================] - 6s 171ms/step - loss: 0.0024\n",
            "Epoch 52/100\n",
            "38/38 [==============================] - 7s 171ms/step - loss: 0.0023\n",
            "Epoch 53/100\n",
            "38/38 [==============================] - 6s 170ms/step - loss: 0.0022\n",
            "Epoch 54/100\n",
            "38/38 [==============================] - 6s 167ms/step - loss: 0.0022\n",
            "Epoch 55/100\n",
            "38/38 [==============================] - 6s 168ms/step - loss: 0.0024\n",
            "Epoch 56/100\n",
            "38/38 [==============================] - 6s 166ms/step - loss: 0.0023\n",
            "Epoch 57/100\n",
            "38/38 [==============================] - 6s 162ms/step - loss: 0.0025\n",
            "Epoch 58/100\n",
            "38/38 [==============================] - 6s 160ms/step - loss: 0.0021\n",
            "Epoch 59/100\n",
            "38/38 [==============================] - 6s 152ms/step - loss: 0.0023\n",
            "Epoch 60/100\n",
            "38/38 [==============================] - 6s 156ms/step - loss: 0.0021\n",
            "Epoch 61/100\n",
            "38/38 [==============================] - 7s 173ms/step - loss: 0.0024\n",
            "Epoch 62/100\n",
            "38/38 [==============================] - 11s 292ms/step - loss: 0.0024\n",
            "Epoch 63/100\n",
            "38/38 [==============================] - 13s 340ms/step - loss: 0.0023\n",
            "Epoch 64/100\n",
            "38/38 [==============================] - 12s 320ms/step - loss: 0.0023\n",
            "Epoch 65/100\n",
            "38/38 [==============================] - 11s 301ms/step - loss: 0.0020\n",
            "Epoch 66/100\n",
            "38/38 [==============================] - 7s 194ms/step - loss: 0.0021\n",
            "Epoch 67/100\n",
            "38/38 [==============================] - 6s 146ms/step - loss: 0.0021\n",
            "Epoch 68/100\n",
            "38/38 [==============================] - 6s 152ms/step - loss: 0.0020\n",
            "Epoch 69/100\n",
            "38/38 [==============================] - 7s 180ms/step - loss: 0.0021\n",
            "Epoch 70/100\n",
            "38/38 [==============================] - 6s 155ms/step - loss: 0.0020\n",
            "Epoch 71/100\n",
            "38/38 [==============================] - 6s 148ms/step - loss: 0.0018\n",
            "Epoch 72/100\n",
            "38/38 [==============================] - 6s 145ms/step - loss: 0.0020\n",
            "Epoch 73/100\n",
            "38/38 [==============================] - 6s 145ms/step - loss: 0.0020\n",
            "Epoch 74/100\n",
            "38/38 [==============================] - 6s 146ms/step - loss: 0.0019\n",
            "Epoch 75/100\n",
            "38/38 [==============================] - 6s 148ms/step - loss: 0.0019\n",
            "Epoch 76/100\n",
            "38/38 [==============================] - 6s 159ms/step - loss: 0.0023\n",
            "Epoch 77/100\n",
            "38/38 [==============================] - 6s 147ms/step - loss: 0.0018\n",
            "Epoch 78/100\n",
            "38/38 [==============================] - 6s 147ms/step - loss: 0.0019\n",
            "Epoch 79/100\n",
            "38/38 [==============================] - 6s 150ms/step - loss: 0.0019\n",
            "Epoch 80/100\n",
            "38/38 [==============================] - 5s 144ms/step - loss: 0.0018\n",
            "Epoch 81/100\n",
            "38/38 [==============================] - 6s 146ms/step - loss: 0.0018\n",
            "Epoch 82/100\n",
            "38/38 [==============================] - 6s 146ms/step - loss: 0.0016\n",
            "Epoch 83/100\n",
            "38/38 [==============================] - 8s 207ms/step - loss: 0.0017\n",
            "Epoch 84/100\n",
            "38/38 [==============================] - 6s 145ms/step - loss: 0.0016\n",
            "Epoch 85/100\n",
            "38/38 [==============================] - 6s 146ms/step - loss: 0.0017\n",
            "Epoch 86/100\n",
            "38/38 [==============================] - 6s 145ms/step - loss: 0.0015\n",
            "Epoch 87/100\n",
            "38/38 [==============================] - 5s 143ms/step - loss: 0.0018\n",
            "Epoch 88/100\n",
            "38/38 [==============================] - 6s 145ms/step - loss: 0.0015\n",
            "Epoch 89/100\n",
            "38/38 [==============================] - 6s 145ms/step - loss: 0.0016\n",
            "Epoch 90/100\n",
            "38/38 [==============================] - 6s 149ms/step - loss: 0.0016\n",
            "Epoch 91/100\n",
            "38/38 [==============================] - 6s 146ms/step - loss: 0.0017\n",
            "Epoch 92/100\n",
            "38/38 [==============================] - 6s 149ms/step - loss: 0.0017\n",
            "Epoch 93/100\n",
            "38/38 [==============================] - 6s 150ms/step - loss: 0.0015\n",
            "Epoch 94/100\n",
            "38/38 [==============================] - 6s 159ms/step - loss: 0.0017\n",
            "Epoch 95/100\n",
            "38/38 [==============================] - 6s 146ms/step - loss: 0.0014\n",
            "Epoch 96/100\n",
            "38/38 [==============================] - 6s 146ms/step - loss: 0.0015\n",
            "Epoch 97/100\n",
            "38/38 [==============================] - 6s 150ms/step - loss: 0.0016\n",
            "Epoch 98/100\n",
            "38/38 [==============================] - 6s 147ms/step - loss: 0.0017\n",
            "Epoch 99/100\n",
            "38/38 [==============================] - 6s 145ms/step - loss: 0.0016\n",
            "Epoch 100/100\n",
            "38/38 [==============================] - 6s 149ms/step - loss: 0.0015\n"
          ]
        },
        {
          "output_type": "execute_result",
          "data": {
            "text/plain": [
              "<keras.callbacks.History at 0x7f99266a1650>"
            ]
          },
          "metadata": {},
          "execution_count": 27
        }
      ]
    },
    {
      "cell_type": "code",
      "source": [
        "# Part 3 - Making the predictions and visualising the results\n",
        "\n",
        "# Getting the real stock price of 2017\n",
        "dataset_test = pd.read_csv('/content/drive/MyDrive/Google_Stock_Price_Test.csv')\n",
        "real_stock_price = dataset_test.iloc[:, 1:2].values"
      ],
      "metadata": {
        "id": "jZVNVgE1S8gS"
      },
      "execution_count": 29,
      "outputs": []
    },
    {
      "cell_type": "markdown",
      "source": [
        "for horizontal concatenation we use axis=1 and for vertical concatenation we use axis=0\n",
        "\n",
        "len(dataset_total) is the final index of the whole dataset and len(dataset_test) is 20."
      ],
      "metadata": {
        "id": "IG0zUd0x5Pa2"
      }
    },
    {
      "cell_type": "code",
      "source": [
        "# Getting the predicted stock price of 2017\n",
        "dataset_total = pd.concat((dataset_train['Open'], dataset_test['Open']), axis = 0)\n",
        "inputs = dataset_total[len(dataset_total) - len(dataset_test) - 60:].values\n",
        "inputs = inputs.reshape(-1,1)\n",
        "inputs = sc.transform(inputs)\n",
        "X_test = []\n",
        "for i in range(60, 80):#for january month\n",
        "    X_test.append(inputs[i-60:i, 0])\n",
        "X_test = np.array(X_test)\n",
        "X_test = np.reshape(X_test, (X_test.shape[0], X_test.shape[1], 1))\n",
        "predicted_stock_price = regressor.predict(X_test)\n",
        "predicted_stock_price = sc.inverse_transform(predicted_stock_price)\n",
        "\n",
        "# Visualising the results\n",
        "plt.plot(real_stock_price, color = 'red', label = 'Real Google Stock Price')\n",
        "plt.plot(predicted_stock_price, color = 'blue', label = 'Predicted Google Stock Price')\n",
        "plt.title('Google Stock Price Prediction')\n",
        "plt.xlabel('Time')\n",
        "plt.ylabel('Google Stock Price')\n",
        "plt.legend()\n",
        "plt.show()"
      ],
      "metadata": {
        "id": "3TxBztglrjUO",
        "colab": {
          "base_uri": "https://localhost:8080/",
          "height": 295
        },
        "outputId": "973c49ab-c72f-4884-9623-67522822adc6"
      },
      "execution_count": 30,
      "outputs": [
        {
          "output_type": "display_data",
          "data": {
            "image/png": "[encoded data removed]",
            "text/plain": [
              "<Figure size 432x288 with 1 Axes>"
            ]
          },
          "metadata": {
            "needs_background": "light"
          }
        }
      ]
    }
  ]
}